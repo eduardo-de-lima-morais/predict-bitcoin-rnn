{
 "cells": [
  {
   "cell_type": "markdown",
   "metadata": {},
   "source": [
    "https://www.youtube.com/watch?v=QSR0RCC3Mes\n"
   ]
  },
  {
   "cell_type": "markdown",
   "metadata": {},
   "source": [
    "https://github.com/SchoolOfAISaoPaulo/aulas/blob/master/19_Aula_2019/2019_Aula19_LSTM_VictorVenites.ipynb"
   ]
  },
  {
   "cell_type": "code",
   "execution_count": 248,
   "metadata": {},
   "outputs": [],
   "source": [
    "#https://analyticsindiamag.com/how-to-do-multivariate-time-series-forecasting-using-lstm/ #scaler separado\n",
    "#https://machinelearningmastery.com/multivariate-time-series-forecasting-lstms-keras/ #scaler junto\n",
    "#nao vi https://www.youtube.com/watch?v=iP4323wII-I"
   ]
  },
  {
   "cell_type": "markdown",
   "metadata": {},
   "source": [
    "Pacetes"
   ]
  },
  {
   "cell_type": "code",
   "execution_count": 249,
   "metadata": {},
   "outputs": [],
   "source": [
    "#importar pacotes\n",
    "\n",
    "#tratamento de dados\n",
    "import pandas as pd\n",
    "import numpy as np\n",
    "\n",
    "#Modelagem\n",
    "import tensorflow as tf\n",
    "from sklearn.preprocessing import MinMaxScaler\n",
    "from sklearn.metrics import mean_squared_error\n",
    "from tensorflow.keras.models import Sequential\n",
    "from tensorflow.keras.layers import * \n",
    "from tensorflow.keras.callbacks import EarlyStopping\n",
    "from tensorflow.keras.losses import MeanSquaredError\n",
    "from tensorflow.keras.metrics import RootMeanSquaredError\n",
    "from tensorflow.keras.optimizers import Adam\n",
    "from sklearn.metrics import mean_squared_error, r2_score,mean_absolute_error\n",
    "\n",
    "#Gráficos\n",
    "import seaborn as sns\n",
    "import matplotlib.pyplot as plt\n",
    "\n",
    "#dados aleatorios\n",
    "import random\n",
    "\n"
   ]
  },
  {
   "cell_type": "code",
   "execution_count": 250,
   "metadata": {},
   "outputs": [],
   "source": [
    "# Defina as sementes aleatórias para reprodutibilidade\n",
    "seed_value = 42\n",
    "np.random.seed(seed_value)\n",
    "random.seed(seed_value)\n",
    "\n",
    "window_size = 10\n",
    "features = 4"
   ]
  },
  {
   "cell_type": "markdown",
   "metadata": {},
   "source": [
    "Dados"
   ]
  },
  {
   "cell_type": "code",
   "execution_count": 251,
   "metadata": {},
   "outputs": [
    {
     "name": "stdout",
     "output_type": "stream",
     "text": [
      "Date             3345\n",
      "btc              3345\n",
      "sp500            3345\n",
      "ouro             3345\n",
      "interest_rate    3345\n",
      "dtype: int64\n"
     ]
    }
   ],
   "source": [
    "dados_finais = pd.read_csv('C:/Users/eduar/OneDrive/Área de Trabalho/Python/bitcoin/gold/bases/dados_finais.csv',parse_dates=True)\n",
    "\n",
    "print(dados_finais.count())"
   ]
  },
  {
   "cell_type": "code",
   "execution_count": 252,
   "metadata": {},
   "outputs": [
    {
     "data": {
      "text/html": [
       "<div>\n",
       "<style scoped>\n",
       "    .dataframe tbody tr th:only-of-type {\n",
       "        vertical-align: middle;\n",
       "    }\n",
       "\n",
       "    .dataframe tbody tr th {\n",
       "        vertical-align: top;\n",
       "    }\n",
       "\n",
       "    .dataframe thead th {\n",
       "        text-align: right;\n",
       "    }\n",
       "</style>\n",
       "<table border=\"1\" class=\"dataframe\">\n",
       "  <thead>\n",
       "    <tr style=\"text-align: right;\">\n",
       "      <th></th>\n",
       "      <th>Date</th>\n",
       "      <th>btc</th>\n",
       "      <th>sp500</th>\n",
       "      <th>ouro</th>\n",
       "      <th>interest_rate</th>\n",
       "    </tr>\n",
       "  </thead>\n",
       "  <tbody>\n",
       "    <tr>\n",
       "      <th>3340</th>\n",
       "      <td>2023-11-09</td>\n",
       "      <td>36693.125000</td>\n",
       "      <td>4347.350098</td>\n",
       "      <td>1964.199951</td>\n",
       "      <td>5.263</td>\n",
       "    </tr>\n",
       "    <tr>\n",
       "      <th>3341</th>\n",
       "      <td>2023-11-10</td>\n",
       "      <td>37313.968750</td>\n",
       "      <td>4415.240234</td>\n",
       "      <td>1932.599976</td>\n",
       "      <td>5.250</td>\n",
       "    </tr>\n",
       "    <tr>\n",
       "      <th>3342</th>\n",
       "      <td>2023-11-11</td>\n",
       "      <td>37138.050781</td>\n",
       "      <td>4415.240234</td>\n",
       "      <td>1932.599976</td>\n",
       "      <td>5.250</td>\n",
       "    </tr>\n",
       "    <tr>\n",
       "      <th>3343</th>\n",
       "      <td>2023-11-12</td>\n",
       "      <td>37054.519531</td>\n",
       "      <td>4415.240234</td>\n",
       "      <td>1932.599976</td>\n",
       "      <td>5.250</td>\n",
       "    </tr>\n",
       "    <tr>\n",
       "      <th>3344</th>\n",
       "      <td>2023-11-13</td>\n",
       "      <td>36502.355469</td>\n",
       "      <td>4411.549805</td>\n",
       "      <td>1945.500000</td>\n",
       "      <td>5.260</td>\n",
       "    </tr>\n",
       "  </tbody>\n",
       "</table>\n",
       "</div>"
      ],
      "text/plain": [
       "            Date           btc        sp500         ouro  interest_rate\n",
       "3340  2023-11-09  36693.125000  4347.350098  1964.199951          5.263\n",
       "3341  2023-11-10  37313.968750  4415.240234  1932.599976          5.250\n",
       "3342  2023-11-11  37138.050781  4415.240234  1932.599976          5.250\n",
       "3343  2023-11-12  37054.519531  4415.240234  1932.599976          5.250\n",
       "3344  2023-11-13  36502.355469  4411.549805  1945.500000          5.260"
      ]
     },
     "execution_count": 252,
     "metadata": {},
     "output_type": "execute_result"
    }
   ],
   "source": [
    "dados_finais.tail()"
   ]
  },
  {
   "cell_type": "markdown",
   "metadata": {},
   "source": [
    "Pré-processamento"
   ]
  },
  {
   "cell_type": "code",
   "execution_count": 253,
   "metadata": {},
   "outputs": [],
   "source": [
    "scaler = MinMaxScaler(feature_range=(-1,1))\n",
    "scalery = MinMaxScaler(feature_range=(-1,1))\n",
    "\n",
    "data2 = dados_finais[[\"btc\",\"sp500\",\"ouro\",\"interest_rate\"]] #multivariado\n",
    "#data2 = dados_finais[[\"btc\"]] #univariado\n",
    "\n",
    "scaled_data2 = scaler.fit_transform(data2.values)\n",
    "\n",
    "data2y = dados_finais[[\"btc\"]] #multivariado\n",
    "scaled_data2y = scalery.fit_transform(data2y.values) #multivariado\n",
    "\n",
    "def create2XY(data,window_size):\n",
    "    x = []\n",
    "    y = []\n",
    "    \n",
    "    for i in range(len(data)-window_size):\n",
    "        row = data[i:i+window_size]\n",
    "        x.append(row)\n",
    "        label = data[i+window_size]\n",
    "        y.append(label)\n",
    "    return np.array(x),np.array(y)\n",
    "\n",
    "#x2,y2 = create2XY(scaled_data2,window_size) #univariado"
   ]
  },
  {
   "cell_type": "code",
   "execution_count": 254,
   "metadata": {},
   "outputs": [],
   "source": [
    "def create_multivariate_X(data, window_size=10):\n",
    "    x = []\n",
    "    for i in range(len(data) - window_size):\n",
    "        row = data[i:i + window_size]\n",
    "        x.append(row)\n",
    "        \n",
    "    return np.array(x)\n",
    "\n",
    "x2 = create_multivariate_X(scaled_data2,window_size=window_size)\n",
    "\n",
    "def create_multivariate_Y(data, target_column=0, window_size=10):\n",
    "    y = []\n",
    "    for i in range(len(data) - window_size):\n",
    "        label = data[i + window_size, target_column]\n",
    "        y.append(label)\n",
    "\n",
    "    return np.array(y)\n",
    "\n",
    "y2 = create_multivariate_Y(scaled_data2y,0,window_size=window_size)"
   ]
  },
  {
   "cell_type": "markdown",
   "metadata": {},
   "source": [
    "Modelagem"
   ]
  },
  {
   "cell_type": "code",
   "execution_count": 255,
   "metadata": {},
   "outputs": [],
   "source": [
    "x_train,y_train = x2[:2900],y2[:2900]\n",
    "x_val,y_val = x2[2900:3000],y2[2900:3000]\n",
    "x_test,y_test = x2[3000:],y2[3000:]"
   ]
  },
  {
   "cell_type": "code",
   "execution_count": 256,
   "metadata": {},
   "outputs": [
    {
     "name": "stdout",
     "output_type": "stream",
     "text": [
      "Epoch 1/10\n",
      "2900/2900 [==============================] - 13s 4ms/step - loss: 0.0039 - val_loss: 0.0014\n",
      "Epoch 2/10\n",
      "2900/2900 [==============================] - 10s 3ms/step - loss: 0.0014 - val_loss: 0.0021\n",
      "Epoch 3/10\n",
      "2900/2900 [==============================] - 11s 4ms/step - loss: 0.0014 - val_loss: 4.5074e-04\n",
      "Epoch 4/10\n",
      "2900/2900 [==============================] - 11s 4ms/step - loss: 0.0012 - val_loss: 0.0019\n",
      "Epoch 5/10\n",
      "2900/2900 [==============================] - 11s 4ms/step - loss: 0.0011 - val_loss: 3.3575e-04\n",
      "Epoch 6/10\n",
      "2900/2900 [==============================] - 12s 4ms/step - loss: 0.0010 - val_loss: 3.5920e-04\n",
      "Epoch 7/10\n",
      "2900/2900 [==============================] - 12s 4ms/step - loss: 0.0011 - val_loss: 3.4942e-04\n"
     ]
    },
    {
     "data": {
      "text/plain": [
       "<keras.src.callbacks.History at 0x198a0aaa2b0>"
      ]
     },
     "execution_count": 256,
     "metadata": {},
     "output_type": "execute_result"
    }
   ],
   "source": [
    "es = EarlyStopping(monitor=\"val_loss\",patience=2)\n",
    "model = Sequential()\n",
    "model.add(InputLayer((window_size,features)))\n",
    "model.add(LSTM(4))\n",
    "model.add(Dense(1,\"linear\"))\n",
    "model.compile(loss=MeanSquaredError(),optimizer=Adam(learning_rate=0.01))\n",
    "model.fit(x_train,y_train,validation_data = (x_val,y_val),epochs=10,callbacks=[es], batch_size = 1) \n"
   ]
  },
  {
   "cell_type": "code",
   "execution_count": 257,
   "metadata": {},
   "outputs": [
    {
     "name": "stdout",
     "output_type": "stream",
     "text": [
      "11/11 [==============================] - 1s 2ms/step\n",
      "11/11 [==============================] - 1s 3ms/step - loss: 722701824.0000\n",
      "Mean Absolute Error (MAE): 465.2865146921642\n",
      "Mean Squared Error (MSE): 475112.3016610787\n",
      "R-squared (R2): 0.9751644130846513\n",
      "Loss: 722701824.0\n"
     ]
    }
   ],
   "source": [
    "# Gerar previsões no conjunto de teste\n",
    "y_pred = model.predict(x_test)\n",
    "y_pred = scalery.inverse_transform(y_pred.reshape(-1, 1))\n",
    "y_pred = y_pred.flatten()\n",
    "\n",
    "y_test = scalery.inverse_transform(y_test.reshape(-1, 1))\n",
    "y_test = y_test.flatten()\n",
    "\n",
    "\n",
    "# Avaliar o desempenho do modelo\n",
    "mse = mean_squared_error(y_test, y_pred)\n",
    "r2 = r2_score(y_test, y_pred)\n",
    "mae = mean_absolute_error(y_test, y_pred)\n",
    "loss = model.evaluate(x_test, y_test)\n",
    "\n",
    "\n",
    "print(\"Mean Absolute Error (MAE):\", mae)\n",
    "print(f\"Mean Squared Error (MSE): {mse}\")\n",
    "print(f\"R-squared (R2): {r2}\")\n",
    "print(f\"Loss: {loss}\")"
   ]
  },
  {
   "cell_type": "code",
   "execution_count": 258,
   "metadata": {},
   "outputs": [
    {
     "data": {
      "text/plain": [
       "(335,)"
      ]
     },
     "execution_count": 258,
     "metadata": {},
     "output_type": "execute_result"
    }
   ],
   "source": [
    "y_test.shape"
   ]
  },
  {
   "cell_type": "code",
   "execution_count": 259,
   "metadata": {},
   "outputs": [
    {
     "data": {
      "text/plain": [
       "(335,)"
      ]
     },
     "execution_count": 259,
     "metadata": {},
     "output_type": "execute_result"
    }
   ],
   "source": [
    "y_pred.shape"
   ]
  },
  {
   "cell_type": "markdown",
   "metadata": {},
   "source": [
    "- Univariavel e Multivariavel\n",
    "- Já definido hipers\n",
    "- uni > multi. Verificar se o multi sem alguma feature fica melhor que só bit"
   ]
  }
 ],
 "metadata": {
  "kernelspec": {
   "display_name": "base",
   "language": "python",
   "name": "python3"
  },
  "language_info": {
   "codemirror_mode": {
    "name": "ipython",
    "version": 3
   },
   "file_extension": ".py",
   "mimetype": "text/x-python",
   "name": "python",
   "nbconvert_exporter": "python",
   "pygments_lexer": "ipython3",
   "version": "3.9.7"
  }
 },
 "nbformat": 4,
 "nbformat_minor": 2
}
